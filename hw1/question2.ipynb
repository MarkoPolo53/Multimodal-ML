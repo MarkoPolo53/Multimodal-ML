{
 "cells": [
  {
   "attachments": {},
   "cell_type": "markdown",
   "metadata": {},
   "source": [
    "### Load the data"
   ]
  },
  {
   "cell_type": "code",
   "execution_count": 9,
   "metadata": {},
   "outputs": [],
   "source": [
    "import pandas as pd\n",
    "\n",
    "data = pd.read_csv('data.csv')\n",
    "data = data.drop(columns='Unnamed: 6')"
   ]
  },
  {
   "attachments": {},
   "cell_type": "markdown",
   "metadata": {},
   "source": [
    "### Regression Model"
   ]
  },
  {
   "cell_type": "code",
   "execution_count": 10,
   "metadata": {},
   "outputs": [],
   "source": [
    "import statsmodels.api as sm\n",
    "\n",
    "y = data['SUS']\n",
    "x = data.drop(columns='SUS')"
   ]
  },
  {
   "cell_type": "code",
   "execution_count": 15,
   "metadata": {},
   "outputs": [
    {
     "name": "stdout",
     "output_type": "stream",
     "text": [
      "                            OLS Regression Results                            \n",
      "==============================================================================\n",
      "Dep. Variable:                    SUS   R-squared:                       0.593\n",
      "Model:                            OLS   Adj. R-squared:                  0.571\n",
      "Method:                 Least Squares   F-statistic:                     27.39\n",
      "Date:                Sun, 12 Feb 2023   Prob (F-statistic):           5.25e-17\n",
      "Time:                        13:48:30   Log-Likelihood:                -362.39\n",
      "No. Observations:                 100   AIC:                             736.8\n",
      "Df Residuals:                      94   BIC:                             752.4\n",
      "Df Model:                           5                                         \n",
      "Covariance Type:            nonrobust                                         \n",
      "================================================================================\n",
      "                   coef    std err          t      P>|t|      [0.025      0.975]\n",
      "--------------------------------------------------------------------------------\n",
      "const           93.0282      5.541     16.788      0.000      82.026     104.031\n",
      "Purchase         1.3412      3.676      0.365      0.716      -5.958       8.641\n",
      "Duration        -0.0002      0.010     -0.025      0.980      -0.020       0.019\n",
      "Gender           0.8367      1.971      0.425      0.672      -3.076       4.749\n",
      "ASR_Error       -1.4254      0.401     -3.553      0.001      -2.222      -0.629\n",
      "Intent_Error    -2.0092      0.439     -4.572      0.000      -2.882      -1.137\n",
      "==============================================================================\n",
      "Omnibus:                        6.969   Durbin-Watson:                   2.023\n",
      "Prob(Omnibus):                  0.031   Jarque-Bera (JB):                8.115\n",
      "Skew:                          -0.378   Prob(JB):                       0.0173\n",
      "Kurtosis:                       4.173   Cond. No.                     1.27e+03\n",
      "==============================================================================\n",
      "\n",
      "Notes:\n",
      "[1] Standard Errors assume that the covariance matrix of the errors is correctly specified.\n",
      "[2] The condition number is large, 1.27e+03. This might indicate that there are\n",
      "strong multicollinearity or other numerical problems.\n"
     ]
    }
   ],
   "source": [
    "x = sm.add_constant(x)\n",
    "\n",
    "model = sm.OLS(y, x).fit()\n",
    "print(model.summary())"
   ]
  }
 ],
 "metadata": {
  "kernelspec": {
   "display_name": "hw1",
   "language": "python",
   "name": "python3"
  },
  "language_info": {
   "codemirror_mode": {
    "name": "ipython",
    "version": 3
   },
   "file_extension": ".py",
   "mimetype": "text/x-python",
   "name": "python",
   "nbconvert_exporter": "python",
   "pygments_lexer": "ipython3",
   "version": "3.10.9"
  },
  "orig_nbformat": 4,
  "vscode": {
   "interpreter": {
    "hash": "66a39a307a27af58e76f0559daf3c25d411c6dbfe1a5afa96ac4e29e5f45935d"
   }
  }
 },
 "nbformat": 4,
 "nbformat_minor": 2
}
